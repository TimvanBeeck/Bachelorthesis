{
 "cells": [
  {
   "cell_type": "markdown",
   "id": "controversial-subscriber",
   "metadata": {},
   "source": [
    "# A degenerate diffusion equation with constant density"
   ]
  },
  {
   "cell_type": "markdown",
   "id": "convertible-affair",
   "metadata": {},
   "source": [
    "We want to solve the problem \n",
    "$$ \\rho w - \\nabla \\cdot ( \\rho ( u \\otimes u) \\nabla w) = f \\text{ in } D,$$\n",
    "where $D = [-1,1] \\subset \\mathbb{R}^2$. In this script, we only consider a constant density $\\rho = 1$. \n",
    "We want to approximate the exact solution \n",
    "$$w := \\exp (-6((x+0.5)^2 + y^2))  - \\exp (-6((x-0.5)^2+y^2)).$$"
   ]
  },
  {
   "cell_type": "markdown",
   "id": "growing-magazine",
   "metadata": {},
   "source": [
    "First of all, we import the needed functionality from [NGSolve](https://ngsolve.org). "
   ]
  },
  {
   "cell_type": "code",
   "execution_count": 8,
   "id": "renewable-latin",
   "metadata": {},
   "outputs": [],
   "source": [
    "from ngsolve import *\n",
    "from netgen.geom2d import SplineGeometry\n",
    "from ngsolve.meshes import *\n",
    "from ngsolve.webgui import Draw"
   ]
  },
  {
   "cell_type": "markdown",
   "id": "recent-whole",
   "metadata": {},
   "source": [
    "The following function calculates a right hand side for a given exact solution through\n",
    "$$f = \\rho w - \\nabla \\cdot (\\rho (u \\otimes u) \\cdot \\nabla w). $$"
   ]
  },
  {
   "cell_type": "code",
   "execution_count": 9,
   "id": "imperial-repair",
   "metadata": {},
   "outputs": [],
   "source": [
    "def calculate_rhs(u,exact,rho):\n",
    "    umat = CoefficientFunction(u,dims=(2,1))\n",
    "    uTen = umat*umat.trans\n",
    "    exactGrad = (exact.Diff(x),exact.Diff(y))\n",
    "    exactDiffusion = rho*uTen*exactGrad\n",
    "    exactDiv = exactDiffusion[0].Diff(x)+exactDiffusion[1].Diff(y)\n",
    "    rhs = rho*exact-exactDiv\n",
    "    return rhs, exactGrad"
   ]
  },
  {
   "cell_type": "markdown",
   "id": "italic-maple",
   "metadata": {},
   "source": [
    "Furthermore, we define a differential operator\n",
    "$$ \\partial_u \\cdot := (u \\cdot \\nabla) \\cdot . $$"
   ]
  },
  {
   "cell_type": "code",
   "execution_count": 10,
   "id": "popular-choir",
   "metadata": {},
   "outputs": [],
   "source": [
    "du = lambda u,w: InnerProduct(u,grad(w))"
   ]
  },
  {
   "cell_type": "markdown",
   "id": "entire-correction",
   "metadata": {},
   "source": [
    "Now, we implement a function solving discrete problem derived in the thesis:  \\\n",
    "Find $w_h \\in V_h^{k,d}$ such that \n",
    "$$ \\mathcal{B}_h (w_h,v_h) = F_h(v_h) \\qquad \\forall v_h \\in V_h^{k,d},$$\n",
    "where the bilinear form $\\mathcal{B}_h(\\cdot,\\cdot)$ is defined through \n",
    "$$ \\begin{align}\n",
    "\\mathcal{B}_h (w_h,v_h) = &\\sum_{T \\in \\mathcal{T_h}} \\int_T \\rho w_h v_h dx + \\int_T \\rho \\partial_u w_h \\partial v_h dx \\\\ \n",
    "&+ \\sum_{F \\in \\mathcal{F}_h} \\int_F u_\\nu \\{ \\! \\! \\{ - \\rho \\partial_u w_h \\} \\! \\! \\} [v_h] ds + \\int_F u_\\nu \\{ \\! \\! \\{ - \\rho \\partial_u v_h \\} \\! \\! \\} [w_h] ds + \\int_F \\frac{\\rho \\lambda}{h} |u_\\nu|^2 [w_h] [v_h] ds,\n",
    "\\end{align}$$\n",
    "and the linear form $ F_h (\\cdot, \\cdot)$ through\n",
    "$$ F_h(v_h) = \\int_D f v_h  dx + \\sum_{F \\in \\mathcal{F}_h^{\\partial D}} \\int_F u_\\nu \\partial_u v_h w ds + \\int_F \\rho \\frac{\\lambda}{\\rho} |u_\\nu|^2v_h w ds.$$\n",
    "Here we denote $u_\\nu = u \\cdot \\nu$, where $\\nu$ is the normal vector. Further, we use the average- and the jump operator defined through \n",
    "$$ \\{ \\! \\! \\{ w_h \\} \\! \\! \\} = \\frac{1}{2}(w_h\\vert_{T_1} + w_h\\vert_{T_2}),$$\n",
    "$$ [w_h] = w_h\\vert_{T_1} - w_h\\vert_{T_2} .$$"
   ]
  },
  {
   "cell_type": "code",
   "execution_count": 11,
   "id": "fuzzy-divide",
   "metadata": {},
   "outputs": [],
   "source": [
    "def Solve(k,exact,rho,uC,lamb,mesh):\n",
    "    fes = L2(mesh, order=k, dgjumps=True)\n",
    "    w,v = fes.TnT()\n",
    "    gfu = GridFunction(fes)\n",
    "\n",
    "    n = specialcf.normal(2)\n",
    "    h = specialcf.mesh_size\n",
    "\n",
    "    jump_w = w-w.Other()\n",
    "    jump_v = v-v.Other()\n",
    "    avg_duw = 0.5*(du(uC,w)+du(uC,w.Other()))\n",
    "    avg_duv = 0.5*(du(uC,v)+du(uC,v.Other()))\n",
    "\n",
    "\n",
    "    dX = dx(bonus_intorder = 2)\n",
    "    dS = ds(bonus_intorder = 2)\n",
    "\n",
    "    rhs,exactGrad = calculate_rhs(uC,exact,rho)\n",
    "\n",
    "    a = BilinearForm(fes,symmetric=True)\n",
    "    a += rho*w*v*dx\n",
    "    a += rho*du(uC,w)*du(uC,v)*dX\n",
    "    a += uC*n*-rho*avg_duw*jump_v*dX(skeleton=True)\n",
    "    a += uC*n*-rho*avg_duv*jump_w*dX(skeleton=True)\n",
    "    a += rho*lamb*1/h*(uC*n)*(uC*n)*jump_w*jump_v*dX(skeleton=True)\n",
    "    a += uC*n*-rho*du(uC,w)*v*dS(skeleton=True)\n",
    "    a += uC*n*-rho*du(uC,v)*w*dS(skeleton=True)\n",
    "    a += rho*lamb*1/h*(uC*n)*(uC*n)*w*v*dS(skeleton=True)\n",
    "\n",
    "    f = LinearForm(fes)\n",
    "    f += rhs*v*dX\n",
    "    f += uC*n*-rho*du(uC,v)*exact*dS(skeleton=True)\n",
    "    f += rho*lamb*1/h*(uC*n)*(uC*n)*exact*v*dS(skeleton=True)\n",
    "\n",
    "    a.Assemble()\n",
    "    f.Assemble()\n",
    "\n",
    "    aInv = a.mat.Inverse(freedofs=fes.FreeDofs(),inverse=\"sparsecholesky\")\n",
    "    gfu.vec[:] = 0.0\n",
    "    gfu.vec.data = aInv * f.vec\n",
    "\n",
    "    return gfu, exactGrad"
   ]
  },
  {
   "cell_type": "markdown",
   "id": "personalized-andrew",
   "metadata": {},
   "source": [
    "We implement the exact solution and three velocity fields to test the method: \\\n",
    "$$\\begin{align}\n",
    "u_0 &= (1,1), \\\\\n",
    "u_1 &= (-0.75y,0.75x), \\\\\n",
    "u_2 &= (2y(1-x^2),-2x(1-y^2)). \\\\\n",
    "\\end{align}$$"
   ]
  },
  {
   "cell_type": "code",
   "execution_count": 12,
   "id": "surgical-pacific",
   "metadata": {},
   "outputs": [],
   "source": [
    "gaussp = CoefficientFunction(exp(-6*((x+0.5)*(x+0.5)+y*y))-exp(-6*((x-0.5)*(x-0.5)+y*y)))\n",
    "u0 = CoefficientFunction((1,1))\n",
    "u1 = CoefficientFunction((-0.75*y,0.75*x))\n",
    "u2 = CoefficientFunction((2*y*(1-x*x),-2*x*(1-y*y)))\n",
    "uC = u2"
   ]
  },
  {
   "cell_type": "markdown",
   "id": "legal-draft",
   "metadata": {},
   "source": [
    "Now, we define a structured mesh on the domain $D$."
   ]
  },
  {
   "cell_type": "code",
   "execution_count": 13,
   "id": "gentle-smoke",
   "metadata": {},
   "outputs": [],
   "source": [
    "n = 3\n",
    "mesh = MakeStructured2DMesh(quads=False, nx=2**n, ny=2**n,mapping = lambda x,y: (2*x-1,2*y-1))"
   ]
  },
  {
   "cell_type": "code",
   "execution_count": 14,
   "id": "adjustable-fisher",
   "metadata": {},
   "outputs": [
    {
     "data": {
      "application/vnd.jupyter.widget-view+json": {
       "model_id": "85b77b24655142dab8138e0e2f932bcb",
       "version_major": 2,
       "version_minor": 0
      },
      "text/plain": [
       "WebGuiWidget(value={'ngsolve_version': '6.2.2102-163-g1362a8d5f', 'mesh_dim': 2, 'order2d': 2, 'order3d': 2, '…"
      ]
     },
     "metadata": {},
     "output_type": "display_data"
    },
    {
     "data": {
      "text/plain": [
       "BaseWebGuiScene"
      ]
     },
     "execution_count": 14,
     "metadata": {},
     "output_type": "execute_result"
    }
   ],
   "source": [
    "Draw(gaussp,mesh)"
   ]
  },
  {
   "cell_type": "markdown",
   "id": "individual-purchase",
   "metadata": {},
   "source": [
    "Now, we fix a polynomial degree $k$, a penalization parameter $\\lambda$ and a constant density $\\rho$."
   ]
  },
  {
   "cell_type": "code",
   "execution_count": 15,
   "id": "jewish-expression",
   "metadata": {},
   "outputs": [],
   "source": [
    "k = 1\n",
    "lamb = 10*(k+1)**2\n",
    "rho = 1"
   ]
  },
  {
   "cell_type": "markdown",
   "id": "blind-physiology",
   "metadata": {},
   "source": [
    "Then, we can solve the solut"
   ]
  },
  {
   "cell_type": "code",
   "execution_count": 16,
   "id": "signed-occasion",
   "metadata": {},
   "outputs": [
    {
     "data": {
      "application/vnd.jupyter.widget-view+json": {
       "model_id": "39529b7d240c428caa0836631ecb50a3",
       "version_major": 2,
       "version_minor": 0
      },
      "text/plain": [
       "WebGuiWidget(value={'ngsolve_version': '6.2.2102-163-g1362a8d5f', 'mesh_dim': 2, 'order2d': 2, 'order3d': 2, '…"
      ]
     },
     "metadata": {},
     "output_type": "display_data"
    },
    {
     "data": {
      "text/plain": [
       "BaseWebGuiScene"
      ]
     },
     "execution_count": 16,
     "metadata": {},
     "output_type": "execute_result"
    }
   ],
   "source": [
    "gfu, exactGrad = Solve(k,gaussp,rho,uC,lamb,mesh)\n",
    "Draw(gfu,mesh)"
   ]
  },
  {
   "cell_type": "markdown",
   "id": "north-heading",
   "metadata": {},
   "source": [
    "We can calculate the error in the $L^2$- and the $W$-norm, where the latter is defined as \n",
    "$$ | \\! | w | \\! |_W^2 :=  | \\! | \\rho^{\\frac{1}{2}} w | \\! |_{L^2}^2 + | \\! | \\rho^{\\frac{1}{2}} \\partial_u w | \\! |_{L^2}^2$$"
   ]
  },
  {
   "cell_type": "code",
   "execution_count": 17,
   "id": "protecting-celtic",
   "metadata": {},
   "outputs": [
    {
     "name": "stdout",
     "output_type": "stream",
     "text": [
      "L2-error: \n",
      " 0.10091554514561535\n",
      "W-error: \n",
      " 0.6710174439602203\n"
     ]
    }
   ],
   "source": [
    "L2error = sqrt(Integrate((gfu-gaussp)**2,mesh))\n",
    "Werror = sqrt(Integrate(rho*(gfu-gaussp)**2,mesh)) + sqrt(Integrate(rho*(du(uC,gfu)-uC*exactGrad)**2,mesh))\n",
    "print(\"L2-error: \\n\", L2error)\n",
    "print(\"W-error: \\n\", Werror)"
   ]
  },
  {
   "cell_type": "markdown",
   "id": "written-sphere",
   "metadata": {},
   "source": [
    "With a simple loop, we can study the convergence of the method; for example in the $W$-norm: "
   ]
  },
  {
   "cell_type": "code",
   "execution_count": 18,
   "id": "previous-cholesterol",
   "metadata": {},
   "outputs": [
    {
     "name": "stdout",
     "output_type": "stream",
     "text": [
      "Mesh generated with n= 1\n",
      "W-Error: 1.9863857050938158\n",
      "Mesh generated with n= 2\n",
      "W-Error: 1.2254870074593518\n",
      "EOC: 0.7\n",
      "Mesh generated with n= 3\n",
      "W-Error: 0.906813639391026\n",
      "EOC: 0.43\n",
      "Mesh generated with n= 4\n",
      "W-Error: 0.480897957510108\n",
      "EOC: 0.92\n",
      "Mesh generated with n= 5\n",
      "W-Error: 0.22194062112804772\n",
      "EOC: 1.12\n",
      "Mesh generated with n= 6\n",
      "W-Error: 0.09973727553999694\n",
      "EOC: 1.15\n",
      "Mesh generated with n= 7\n",
      "W-Error: 0.04678265468593071\n",
      "EOC: 1.09\n"
     ]
    }
   ],
   "source": [
    "Werrors = []\n",
    "for n in range(1,8):\n",
    "    mesh = MakeStructured2DMesh(quads=False, nx=2**n, ny=2**n,mapping = lambda x,y: (2*x-1,2*y-1))\n",
    "    gfu, exactGrad = Solve(k,gaussp,rho,u0,lamb,mesh)\n",
    "    Werror = sqrt(Integrate(rho*(gfu-gaussp)**2,mesh)) + sqrt(Integrate(rho*(du(uC,gfu)-uC*exactGrad)**2,mesh))\n",
    "    Werrors.append(Werror)\n",
    "    print(\"Mesh generated with n=\",n)\n",
    "    if n > 1: \n",
    "        wrate = round(log(Werrors[n-2]/Werrors[n-1])/log(2),2)\n",
    "        print(\"W-Error:\",Werror)\n",
    "        print(\"EOC:\", wrate)\n",
    "    else:\n",
    "        print(\"W-Error:\",Werror)"
   ]
  },
  {
   "cell_type": "code",
   "execution_count": null,
   "id": "finnish-algorithm",
   "metadata": {},
   "outputs": [],
   "source": []
  }
 ],
 "metadata": {
  "kernelspec": {
   "display_name": "Python 3",
   "language": "python",
   "name": "python3"
  },
  "language_info": {
   "codemirror_mode": {
    "name": "ipython",
    "version": 3
   },
   "file_extension": ".py",
   "mimetype": "text/x-python",
   "name": "python",
   "nbconvert_exporter": "python",
   "pygments_lexer": "ipython3",
   "version": "3.8.6"
  }
 },
 "nbformat": 4,
 "nbformat_minor": 5
}
