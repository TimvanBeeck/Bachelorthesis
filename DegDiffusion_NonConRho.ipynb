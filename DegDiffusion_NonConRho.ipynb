{
 "cells": [
  {
   "cell_type": "markdown",
   "id": "appropriate-leave",
   "metadata": {},
   "source": [
    "# A degenerate diffusion equation with non-constant density"
   ]
  },
  {
   "cell_type": "markdown",
   "id": "backed-market",
   "metadata": {},
   "source": [
    "Again, we want to solve the problem \n",
    "$$ \\rho w - \\nabla \\cdot ( \\rho ( u \\otimes u) \\nabla w) = f \\text{ in } D,$$\n",
    "but this time on the circle\n",
    "$$D = \\{ (x,y) \\in \\mathbb{R}^2 \\ : \\ \\sqrt{x^2+y^2} = 1 \\}.$$ \n",
    "As before, we want to approximate the exact solution \n",
    "$$w := \\exp (-6((x+0.5)^2 + y^2))  - \\exp (-6((x-0.5)^2+y^2)).$$\n",
    "Note, that this notebook is very similar to the the one describing the method with a constant density ([DegDiffusion_constRho](./DegDiffusion_constRho.ipynb)). Hence, we will focus on describing the differences between the two notebooks.  "
   ]
  },
  {
   "cell_type": "code",
   "execution_count": 1,
   "id": "meaningful-happiness",
   "metadata": {},
   "outputs": [],
   "source": [
    "from ngsolve import *\n",
    "from netgen.geom2d import SplineGeometry\n",
    "from ngsolve.webgui import Draw"
   ]
  },
  {
   "cell_type": "code",
   "execution_count": 2,
   "id": "endless-governor",
   "metadata": {},
   "outputs": [],
   "source": [
    "def calculate_rhs(u,exact,rho):\n",
    "    umat = CoefficientFunction(u,dims=(2,1))\n",
    "    uTen = umat*umat.trans\n",
    "    exactGrad = (exact.Diff(x),exact.Diff(y))\n",
    "    exactDiffusion = rho*uTen*exactGrad\n",
    "    exactDiv = exactDiffusion[0].Diff(x)+exactDiffusion[1].Diff(y)\n",
    "    rhs = rho*exact-exactDiv\n",
    "    return rhs, exactGrad"
   ]
  },
  {
   "cell_type": "code",
   "execution_count": 3,
   "id": "enormous-immigration",
   "metadata": {},
   "outputs": [],
   "source": [
    "du = lambda u,w: InnerProduct(u,grad(w))"
   ]
  },
  {
   "cell_type": "code",
   "execution_count": 4,
   "id": "appointed-trouble",
   "metadata": {},
   "outputs": [],
   "source": [
    "def Solve(k,exact,rho,uC,lamb,mesh):\n",
    "    fes = L2(mesh, order=k, dgjumps=True)\n",
    "    w,v = fes.TnT()\n",
    "    gfu = GridFunction(fes)\n",
    "\n",
    "    n = specialcf.normal(2)\n",
    "    h = specialcf.mesh_size\n",
    "\n",
    "    jump_w = w-w.Other()\n",
    "    jump_v = v-v.Other()\n",
    "    avg_duw = 0.5*(du(uC,w)+du(uC,w.Other()))\n",
    "    avg_duv = 0.5*(du(uC,v)+du(uC,v.Other()))\n",
    "\n",
    "\n",
    "    dX = dx(bonus_intorder = 2)\n",
    "    dS = ds(bonus_intorder = 2)\n",
    "\n",
    "    rhs,exactGrad = calculate_rhs(uC,exact,rho)\n",
    "\n",
    "    a = BilinearForm(fes,symmetric=True)\n",
    "    a += rho*w*v*dx\n",
    "    a += rho*du(uC,w)*du(uC,v)*dX\n",
    "    a += uC*n*-rho*avg_duw*jump_v*dX(skeleton=True)\n",
    "    a += uC*n*-rho*avg_duv*jump_w*dX(skeleton=True)\n",
    "    a += rho*lamb*1/h*(uC*n)*(uC*n)*jump_w*jump_v*dX(skeleton=True)\n",
    "    a += uC*n*-rho*du(uC,w)*v*dS(skeleton=True)\n",
    "    a += uC*n*-rho*du(uC,v)*w*dS(skeleton=True)\n",
    "    a += rho*lamb*1/h*(uC*n)*(uC*n)*w*v*dS(skeleton=True)\n",
    "\n",
    "    f = LinearForm(fes)\n",
    "    f += rhs*v*dX\n",
    "    f += uC*n*-rho*du(uC,v)*exact*dS(skeleton=True)\n",
    "    f += rho*lamb*1/h*(uC*n)*(uC*n)*exact*v*dS(skeleton=True)\n",
    "\n",
    "    a.Assemble()\n",
    "    f.Assemble()\n",
    "\n",
    "    aInv = a.mat.Inverse(freedofs=fes.FreeDofs(),inverse=\"sparsecholesky\")\n",
    "    gfu.vec[:] = 0.0\n",
    "    gfu.vec.data = aInv * f.vec\n",
    "\n",
    "    return gfu, exactGrad"
   ]
  },
  {
   "cell_type": "code",
   "execution_count": 5,
   "id": "unsigned-source",
   "metadata": {},
   "outputs": [],
   "source": [
    "gaussp = CoefficientFunction(exp(-6*((x+0.5)*(x+0.5)+y*y))-exp(-6*((x-0.5)*(x-0.5)+y*y)))\n",
    "u0 = CoefficientFunction((1,1))\n",
    "u1 = CoefficientFunction((-0.75*y,0.75*x))\n",
    "u2 = CoefficientFunction((2*y*(1-x*x),-2*x*(1-y*y)))"
   ]
  },
  {
   "cell_type": "markdown",
   "id": "chubby-bouquet",
   "metadata": {},
   "source": [
    "In contrast to the previous notebook, we will consider the circle geometry $D$ defined above. "
   ]
  },
  {
   "cell_type": "code",
   "execution_count": 41,
   "id": "rental-warner",
   "metadata": {},
   "outputs": [],
   "source": [
    "n = 3\n",
    "geo = SplineGeometry()\n",
    "geo.AddCircle(c=(0,0),r=1,bc=\"circle\")\n",
    "ngmesh = geo.GenerateMesh(maxh=1)\n",
    "for i in range(n):\n",
    "    ngmesh.Refine()\n",
    "mesh = Mesh(ngmesh)\n",
    "mesh.Curve(7)"
   ]
  },
  {
   "cell_type": "code",
   "execution_count": 42,
   "id": "south-intake",
   "metadata": {},
   "outputs": [
    {
     "data": {
      "application/vnd.jupyter.widget-view+json": {
       "model_id": "6bfb291547e64167b4cd67565357b42a",
       "version_major": 2,
       "version_minor": 0
      },
      "text/plain": [
       "WebGuiWidget(value={'ngsolve_version': '6.2.2102-163-g1362a8d5f', 'mesh_dim': 2, 'order2d': 2, 'order3d': 2, '…"
      ]
     },
     "metadata": {},
     "output_type": "display_data"
    },
    {
     "data": {
      "text/plain": [
       "BaseWebGuiScene"
      ]
     },
     "execution_count": 42,
     "metadata": {},
     "output_type": "execute_result"
    }
   ],
   "source": [
    "Draw(gaussp,mesh)"
   ]
  },
  {
   "cell_type": "markdown",
   "id": "prerequisite-donor",
   "metadata": {},
   "source": [
    "We define a non-constant density through \n",
    "$$ \\rho_{\\text{rho_coef}} = (1.75-x^2-y^2)^{\\text{rho_coef}}.$$\n",
    "It has a peak at the origin and gets small close to the boundary. Note that the higher the coefficient $\\text{rho_coef}$ is chosen, the higher the deviation between the maximum and the minimum of the density. "
   ]
  },
  {
   "cell_type": "code",
   "execution_count": 43,
   "id": "arctic-assurance",
   "metadata": {},
   "outputs": [],
   "source": [
    "k = 1\n",
    "lamb = 10*(k+1)**2\n",
    "rho_coef = 2\n",
    "rho = CoefficientFunction((1.75-x**2-y**2)**rho_coef)\n",
    "uC = u2"
   ]
  },
  {
   "cell_type": "code",
   "execution_count": 44,
   "id": "sealed-gilbert",
   "metadata": {},
   "outputs": [
    {
     "data": {
      "application/vnd.jupyter.widget-view+json": {
       "model_id": "0c22cc623d534048baba6c3381e51db6",
       "version_major": 2,
       "version_minor": 0
      },
      "text/plain": [
       "WebGuiWidget(value={'ngsolve_version': '6.2.2102-163-g1362a8d5f', 'mesh_dim': 2, 'order2d': 2, 'order3d': 2, '…"
      ]
     },
     "metadata": {},
     "output_type": "display_data"
    },
    {
     "data": {
      "text/plain": [
       "BaseWebGuiScene"
      ]
     },
     "execution_count": 44,
     "metadata": {},
     "output_type": "execute_result"
    }
   ],
   "source": [
    "Draw(rho,mesh)"
   ]
  },
  {
   "cell_type": "code",
   "execution_count": 45,
   "id": "miniature-progress",
   "metadata": {},
   "outputs": [],
   "source": [
    "gfu, exactGrad = Solve(k,gaussp,rho,uC,lamb,mesh)"
   ]
  },
  {
   "cell_type": "code",
   "execution_count": 46,
   "id": "environmental-reality",
   "metadata": {},
   "outputs": [
    {
     "data": {
      "application/vnd.jupyter.widget-view+json": {
       "model_id": "c56b49ac8072456fa0be73f7f580ece6",
       "version_major": 2,
       "version_minor": 0
      },
      "text/plain": [
       "WebGuiWidget(value={'ngsolve_version': '6.2.2102-163-g1362a8d5f', 'mesh_dim': 2, 'order2d': 2, 'order3d': 2, '…"
      ]
     },
     "metadata": {},
     "output_type": "display_data"
    },
    {
     "data": {
      "text/plain": [
       "BaseWebGuiScene"
      ]
     },
     "execution_count": 46,
     "metadata": {},
     "output_type": "execute_result"
    }
   ],
   "source": [
    "Draw(gfu,mesh)"
   ]
  },
  {
   "cell_type": "code",
   "execution_count": 47,
   "id": "amazing-collector",
   "metadata": {},
   "outputs": [
    {
     "name": "stdout",
     "output_type": "stream",
     "text": [
      "L2-error: \n",
      " 0.005345981943127922\n",
      "W-error: \n",
      " 0.1937177039384571\n"
     ]
    }
   ],
   "source": [
    "L2error = sqrt(Integrate((gfu-gaussp)**2,mesh))\n",
    "Werror = sqrt(Integrate(rho*(gfu-gaussp)**2,mesh)) + sqrt(Integrate(rho*(du(uC,gfu)-uC*exactGrad)**2,mesh))\n",
    "print(\"L2-error: \\n\", L2error)\n",
    "print(\"W-error: \\n\", Werror)"
   ]
  },
  {
   "cell_type": "code",
   "execution_count": 49,
   "id": "administrative-indiana",
   "metadata": {},
   "outputs": [
    {
     "name": "stdout",
     "output_type": "stream",
     "text": [
      "Mesh generated with n= 1\n",
      "W-Error: 0.7805268058900359\n",
      "Mesh generated with n= 2\n",
      "W-Error: 0.38926713456081324\n",
      "EOC: 1.0\n",
      "Mesh generated with n= 3\n",
      "W-Error: 0.1937177039384522\n",
      "EOC: 1.01\n",
      "Mesh generated with n= 4\n",
      "W-Error: 0.0963246096876006\n",
      "EOC: 1.01\n",
      "Mesh generated with n= 5\n",
      "W-Error: 0.047918515875208394\n",
      "EOC: 1.01\n"
     ]
    }
   ],
   "source": [
    "Werrors = []\n",
    "for n in range(1,6):\n",
    "    geo = SplineGeometry()\n",
    "    geo.AddCircle(c=(0,0),r=1,bc=\"circle\")\n",
    "    ngmesh = geo.GenerateMesh(maxh=1)\n",
    "    for i in range(n):\n",
    "        ngmesh.Refine()\n",
    "    mesh = Mesh(ngmesh)\n",
    "    mesh.Curve(7)\n",
    "    gfu, exactGrad = Solve(k,gaussp,rho,uC,lamb,mesh)\n",
    "    Werror = sqrt(Integrate(rho*(gfu-gaussp)**2,mesh)) + sqrt(Integrate(rho*(du(uC,gfu)-uC*exactGrad)**2,mesh))\n",
    "    Werrors.append(Werror)\n",
    "    print(\"Mesh generated with n=\",n)\n",
    "    if n > 1: \n",
    "        wrate = round(log(Werrors[n-2]/Werrors[n-1])/log(2),2)\n",
    "        print(\"W-Error:\",Werror)\n",
    "        print(\"EOC:\", wrate)\n",
    "    else:\n",
    "        print(\"W-Error:\",Werror)"
   ]
  },
  {
   "cell_type": "code",
   "execution_count": null,
   "id": "proved-spectrum",
   "metadata": {},
   "outputs": [],
   "source": []
  }
 ],
 "metadata": {
  "kernelspec": {
   "display_name": "Python 3",
   "language": "python",
   "name": "python3"
  },
  "language_info": {
   "codemirror_mode": {
    "name": "ipython",
    "version": 3
   },
   "file_extension": ".py",
   "mimetype": "text/x-python",
   "name": "python",
   "nbconvert_exporter": "python",
   "pygments_lexer": "ipython3",
   "version": "3.8.6"
  }
 },
 "nbformat": 4,
 "nbformat_minor": 5
}
